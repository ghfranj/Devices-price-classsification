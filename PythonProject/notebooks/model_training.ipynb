{
  "nbformat": 4,
  "nbformat_minor": 0,
  "metadata": {
    "colab": {
      "provenance": []
    },
    "kernelspec": {
      "name": "python3",
      "display_name": "Python 3"
    },
    "language_info": {
      "name": "python"
    }
  },
  "cells": [
    {
      "cell_type": "markdown",
      "source": [
        "# Importing Libraries"
      ],
      "metadata": {
        "id": "0QBiiXCjyj-f"
      }
    },
    {
      "cell_type": "code",
      "execution_count": 38,
      "metadata": {
        "id": "gO4UiLIoxKjV"
      },
      "outputs": [],
      "source": [
        "# Import necessary libraries for data manipulation, model building, and evaluation\n",
        "import pandas as pd\n",
        "import numpy as np\n",
        "from sklearn.model_selection import train_test_split\n",
        "from sklearn.metrics import classification_report, confusion_matrix\n",
        "from tensorflow.keras.models import Sequential\n",
        "from tensorflow.keras.layers import Dense, Dropout\n",
        "from tensorflow.keras.utils import to_categorical"
      ]
    },
    {
      "cell_type": "markdown",
      "source": [
        "#Load the Prepared Data"
      ],
      "metadata": {
        "id": "_N6n6jerymqu"
      }
    },
    {
      "cell_type": "code",
      "source": [
        "# Load prepared data\n",
        "X_train = pd.read_csv(\"data/X_train_prepared.csv\")\n",
        "y_train = pd.read_csv(\"data/y_train_prepared.csv\")\n",
        "X_test = pd.read_csv(\"data/X_test_prepared.csv\")"
      ],
      "metadata": {
        "id": "EMBtDjyhxdoN"
      },
      "execution_count": 40,
      "outputs": []
    },
    {
      "cell_type": "markdown",
      "source": [
        "# Convert Target to Categorical"
      ],
      "metadata": {
        "id": "CSYjU5AA4to6"
      }
    },
    {
      "cell_type": "code",
      "source": [
        "# Convert target variable to categorical\n",
        "y_train_categorical = to_categorical(y_train)"
      ],
      "metadata": {
        "id": "7LfHpjGb4tRY"
      },
      "execution_count": 44,
      "outputs": []
    },
    {
      "cell_type": "markdown",
      "source": [
        "#Split Data into Training and Validation Sets"
      ],
      "metadata": {
        "id": "-66Vs9V3ypKH"
      }
    },
    {
      "cell_type": "code",
      "source": [
        "# Split the data into training and validation sets\n",
        "X_train_split, X_val, y_train_split, y_val = train_test_split(X_train, y_train_categorical, test_size=0.2, random_state=42)"
      ],
      "metadata": {
        "id": "_JNnuv8vxeB3"
      },
      "execution_count": 45,
      "outputs": []
    },
    {
      "cell_type": "markdown",
      "source": [
        "#Define the Model"
      ],
      "metadata": {
        "id": "jb3h_ciVys3H"
      }
    },
    {
      "cell_type": "code",
      "source": [
        "# Define the Sequential model\n",
        "model = Sequential([\n",
        "    Dense(128, input_shape=(X_train.shape[1],), activation='gelu'),\n",
        "    Dropout(0.5),\n",
        "    Dense(64, activation='gelu'),\n",
        "    Dropout(0.5),\n",
        "    Dense(32, activation='gelu'),\n",
        "    Dropout(0.5),\n",
        "    Dense(16, activation='gelu'),\n",
        "    Dropout(0.2),\n",
        "    Dense(4, activation='softmax')\n",
        "])\n",
        "\n",
        "# Compile the model\n",
        "model.compile(optimizer='adam',\n",
        "              loss='categorical_crossentropy',\n",
        "              metrics=['accuracy'])\n",
        "\n",
        "# Display model summary\n",
        "model.summary()\n"
      ],
      "metadata": {
        "colab": {
          "base_uri": "https://localhost:8080/"
        },
        "id": "8ROEn33QxfNI",
        "outputId": "6928029e-9329-4f29-c6d6-d9dd772951c9"
      },
      "execution_count": 46,
      "outputs": [
        {
          "output_type": "stream",
          "name": "stdout",
          "text": [
            "Model: \"sequential_2\"\n",
            "_________________________________________________________________\n",
            " Layer (type)                Output Shape              Param #   \n",
            "=================================================================\n",
            " dense_10 (Dense)            (None, 128)               2816      \n",
            "                                                                 \n",
            " dropout_8 (Dropout)         (None, 128)               0         \n",
            "                                                                 \n",
            " dense_11 (Dense)            (None, 64)                8256      \n",
            "                                                                 \n",
            " dropout_9 (Dropout)         (None, 64)                0         \n",
            "                                                                 \n",
            " dense_12 (Dense)            (None, 32)                2080      \n",
            "                                                                 \n",
            " dropout_10 (Dropout)        (None, 32)                0         \n",
            "                                                                 \n",
            " dense_13 (Dense)            (None, 16)                528       \n",
            "                                                                 \n",
            " dropout_11 (Dropout)        (None, 16)                0         \n",
            "                                                                 \n",
            " dense_14 (Dense)            (None, 4)                 68        \n",
            "                                                                 \n",
            "=================================================================\n",
            "Total params: 13748 (53.70 KB)\n",
            "Trainable params: 13748 (53.70 KB)\n",
            "Non-trainable params: 0 (0.00 Byte)\n",
            "_________________________________________________________________\n"
          ]
        }
      ]
    },
    {
      "cell_type": "markdown",
      "source": [
        "#Train the Model"
      ],
      "metadata": {
        "id": "3zKBFa_cyvdC"
      }
    },
    {
      "cell_type": "code",
      "source": [
        "# Train the model\n",
        "history = model.fit(X_train_split, y_train_split,\n",
        "                    epochs=50,\n",
        "                    batch_size=32,\n",
        "                    validation_data=(X_val, y_val))\n"
      ],
      "metadata": {
        "colab": {
          "base_uri": "https://localhost:8080/"
        },
        "id": "aeV30g5jxpex",
        "outputId": "cfae1641-51b6-4dae-d1c4-3ef8d9bdb561"
      },
      "execution_count": 47,
      "outputs": [
        {
          "output_type": "stream",
          "name": "stdout",
          "text": [
            "Epoch 1/50\n",
            "50/50 [==============================] - 2s 9ms/step - loss: 1.3938 - accuracy: 0.2650 - val_loss: 1.3263 - val_accuracy: 0.4950\n",
            "Epoch 2/50\n",
            "50/50 [==============================] - 0s 3ms/step - loss: 1.2639 - accuracy: 0.4350 - val_loss: 1.0774 - val_accuracy: 0.6550\n",
            "Epoch 3/50\n",
            "50/50 [==============================] - 0s 3ms/step - loss: 1.0724 - accuracy: 0.5156 - val_loss: 0.7802 - val_accuracy: 0.6925\n",
            "Epoch 4/50\n",
            "50/50 [==============================] - 0s 3ms/step - loss: 0.9108 - accuracy: 0.5981 - val_loss: 0.6503 - val_accuracy: 0.7750\n",
            "Epoch 5/50\n",
            "50/50 [==============================] - 0s 3ms/step - loss: 0.8117 - accuracy: 0.6494 - val_loss: 0.5658 - val_accuracy: 0.8600\n",
            "Epoch 6/50\n",
            "50/50 [==============================] - 0s 3ms/step - loss: 0.7255 - accuracy: 0.6862 - val_loss: 0.5117 - val_accuracy: 0.9025\n",
            "Epoch 7/50\n",
            "50/50 [==============================] - 0s 4ms/step - loss: 0.6850 - accuracy: 0.7081 - val_loss: 0.4666 - val_accuracy: 0.9600\n",
            "Epoch 8/50\n",
            "50/50 [==============================] - 0s 3ms/step - loss: 0.6051 - accuracy: 0.7750 - val_loss: 0.3996 - val_accuracy: 0.9325\n",
            "Epoch 9/50\n",
            "50/50 [==============================] - 0s 5ms/step - loss: 0.5812 - accuracy: 0.7681 - val_loss: 0.3671 - val_accuracy: 0.9425\n",
            "Epoch 10/50\n",
            "50/50 [==============================] - 0s 5ms/step - loss: 0.5444 - accuracy: 0.7837 - val_loss: 0.3407 - val_accuracy: 0.9550\n",
            "Epoch 11/50\n",
            "50/50 [==============================] - 0s 7ms/step - loss: 0.4860 - accuracy: 0.8150 - val_loss: 0.3037 - val_accuracy: 0.9225\n",
            "Epoch 12/50\n",
            "50/50 [==============================] - 0s 6ms/step - loss: 0.4760 - accuracy: 0.8119 - val_loss: 0.2804 - val_accuracy: 0.9350\n",
            "Epoch 13/50\n",
            "50/50 [==============================] - 0s 6ms/step - loss: 0.4520 - accuracy: 0.8244 - val_loss: 0.2626 - val_accuracy: 0.9475\n",
            "Epoch 14/50\n",
            "50/50 [==============================] - 0s 6ms/step - loss: 0.4215 - accuracy: 0.8331 - val_loss: 0.2327 - val_accuracy: 0.9625\n",
            "Epoch 15/50\n",
            "50/50 [==============================] - 0s 6ms/step - loss: 0.4058 - accuracy: 0.8375 - val_loss: 0.2337 - val_accuracy: 0.9525\n",
            "Epoch 16/50\n",
            "50/50 [==============================] - 0s 6ms/step - loss: 0.4031 - accuracy: 0.8413 - val_loss: 0.2092 - val_accuracy: 0.9425\n",
            "Epoch 17/50\n",
            "50/50 [==============================] - 0s 6ms/step - loss: 0.3835 - accuracy: 0.8531 - val_loss: 0.2027 - val_accuracy: 0.9400\n",
            "Epoch 18/50\n",
            "50/50 [==============================] - 0s 6ms/step - loss: 0.3699 - accuracy: 0.8544 - val_loss: 0.1905 - val_accuracy: 0.9450\n",
            "Epoch 19/50\n",
            "50/50 [==============================] - 0s 4ms/step - loss: 0.3646 - accuracy: 0.8525 - val_loss: 0.1967 - val_accuracy: 0.9475\n",
            "Epoch 20/50\n",
            "50/50 [==============================] - 0s 3ms/step - loss: 0.3524 - accuracy: 0.8594 - val_loss: 0.1823 - val_accuracy: 0.9550\n",
            "Epoch 21/50\n",
            "50/50 [==============================] - 0s 3ms/step - loss: 0.3193 - accuracy: 0.8750 - val_loss: 0.1789 - val_accuracy: 0.9500\n",
            "Epoch 22/50\n",
            "50/50 [==============================] - 0s 3ms/step - loss: 0.3501 - accuracy: 0.8631 - val_loss: 0.1788 - val_accuracy: 0.9475\n",
            "Epoch 23/50\n",
            "50/50 [==============================] - 0s 3ms/step - loss: 0.3275 - accuracy: 0.8719 - val_loss: 0.1960 - val_accuracy: 0.9300\n",
            "Epoch 24/50\n",
            "50/50 [==============================] - 0s 3ms/step - loss: 0.3223 - accuracy: 0.8750 - val_loss: 0.1690 - val_accuracy: 0.9550\n",
            "Epoch 25/50\n",
            "50/50 [==============================] - 0s 3ms/step - loss: 0.3071 - accuracy: 0.8669 - val_loss: 0.1618 - val_accuracy: 0.9475\n",
            "Epoch 26/50\n",
            "50/50 [==============================] - 0s 3ms/step - loss: 0.3044 - accuracy: 0.8781 - val_loss: 0.1654 - val_accuracy: 0.9625\n",
            "Epoch 27/50\n",
            "50/50 [==============================] - 0s 3ms/step - loss: 0.2850 - accuracy: 0.8794 - val_loss: 0.1623 - val_accuracy: 0.9500\n",
            "Epoch 28/50\n",
            "50/50 [==============================] - 0s 4ms/step - loss: 0.2910 - accuracy: 0.8819 - val_loss: 0.1570 - val_accuracy: 0.9500\n",
            "Epoch 29/50\n",
            "50/50 [==============================] - 0s 3ms/step - loss: 0.2923 - accuracy: 0.8794 - val_loss: 0.1447 - val_accuracy: 0.9500\n",
            "Epoch 30/50\n",
            "50/50 [==============================] - 0s 4ms/step - loss: 0.3015 - accuracy: 0.8806 - val_loss: 0.1728 - val_accuracy: 0.9425\n",
            "Epoch 31/50\n",
            "50/50 [==============================] - 0s 3ms/step - loss: 0.2681 - accuracy: 0.8988 - val_loss: 0.1383 - val_accuracy: 0.9525\n",
            "Epoch 32/50\n",
            "50/50 [==============================] - 0s 3ms/step - loss: 0.2858 - accuracy: 0.8856 - val_loss: 0.1393 - val_accuracy: 0.9600\n",
            "Epoch 33/50\n",
            "50/50 [==============================] - 0s 3ms/step - loss: 0.2671 - accuracy: 0.8981 - val_loss: 0.1515 - val_accuracy: 0.9350\n",
            "Epoch 34/50\n",
            "50/50 [==============================] - 0s 4ms/step - loss: 0.2723 - accuracy: 0.8844 - val_loss: 0.1364 - val_accuracy: 0.9675\n",
            "Epoch 35/50\n",
            "50/50 [==============================] - 0s 3ms/step - loss: 0.2745 - accuracy: 0.8881 - val_loss: 0.1388 - val_accuracy: 0.9550\n",
            "Epoch 36/50\n",
            "50/50 [==============================] - 0s 3ms/step - loss: 0.2526 - accuracy: 0.9006 - val_loss: 0.1382 - val_accuracy: 0.9550\n",
            "Epoch 37/50\n",
            "50/50 [==============================] - 0s 3ms/step - loss: 0.2498 - accuracy: 0.8969 - val_loss: 0.1320 - val_accuracy: 0.9525\n",
            "Epoch 38/50\n",
            "50/50 [==============================] - 0s 3ms/step - loss: 0.2418 - accuracy: 0.9013 - val_loss: 0.1277 - val_accuracy: 0.9525\n",
            "Epoch 39/50\n",
            "50/50 [==============================] - 0s 3ms/step - loss: 0.2300 - accuracy: 0.9169 - val_loss: 0.1270 - val_accuracy: 0.9550\n",
            "Epoch 40/50\n",
            "50/50 [==============================] - 0s 4ms/step - loss: 0.2307 - accuracy: 0.9106 - val_loss: 0.1273 - val_accuracy: 0.9500\n",
            "Epoch 41/50\n",
            "50/50 [==============================] - 0s 3ms/step - loss: 0.2530 - accuracy: 0.8944 - val_loss: 0.1331 - val_accuracy: 0.9500\n",
            "Epoch 42/50\n",
            "50/50 [==============================] - 0s 3ms/step - loss: 0.2121 - accuracy: 0.9206 - val_loss: 0.1327 - val_accuracy: 0.9475\n",
            "Epoch 43/50\n",
            "50/50 [==============================] - 0s 3ms/step - loss: 0.2207 - accuracy: 0.9131 - val_loss: 0.1402 - val_accuracy: 0.9525\n",
            "Epoch 44/50\n",
            "50/50 [==============================] - 0s 3ms/step - loss: 0.2459 - accuracy: 0.9100 - val_loss: 0.1347 - val_accuracy: 0.9675\n",
            "Epoch 45/50\n",
            "50/50 [==============================] - 0s 3ms/step - loss: 0.2363 - accuracy: 0.9069 - val_loss: 0.1306 - val_accuracy: 0.9675\n",
            "Epoch 46/50\n",
            "50/50 [==============================] - 0s 4ms/step - loss: 0.2265 - accuracy: 0.9044 - val_loss: 0.1352 - val_accuracy: 0.9500\n",
            "Epoch 47/50\n",
            "50/50 [==============================] - 0s 3ms/step - loss: 0.2108 - accuracy: 0.9194 - val_loss: 0.1367 - val_accuracy: 0.9450\n",
            "Epoch 48/50\n",
            "50/50 [==============================] - 0s 3ms/step - loss: 0.2335 - accuracy: 0.9144 - val_loss: 0.1418 - val_accuracy: 0.9400\n",
            "Epoch 49/50\n",
            "50/50 [==============================] - 0s 3ms/step - loss: 0.2347 - accuracy: 0.9075 - val_loss: 0.1221 - val_accuracy: 0.9650\n",
            "Epoch 50/50\n",
            "50/50 [==============================] - 0s 3ms/step - loss: 0.2297 - accuracy: 0.9125 - val_loss: 0.1281 - val_accuracy: 0.9475\n"
          ]
        }
      ]
    },
    {
      "cell_type": "markdown",
      "source": [
        "#Evaluate the Model"
      ],
      "metadata": {
        "id": "8zgJNMdBywiY"
      }
    },
    {
      "cell_type": "code",
      "source": [
        "from sklearn.metrics import accuracy_score\n",
        "\n",
        "# Evaluate the model on the validation data\n",
        "y_pred_probs = model.predict(X_val)\n",
        "y_pred = np.argmax(y_pred_probs, axis=1)\n",
        "\n",
        "# Convert y_val from categorical back to numerical labels\n",
        "y_val_labels = np.argmax(y_val, axis=1)\n",
        "\n",
        "# Print classification report\n",
        "print(classification_report(y_val_labels, y_pred))\n",
        "\n",
        "# Print confusion matrix\n",
        "conf_mat = confusion_matrix(y_val_labels, y_pred)\n",
        "print(\"Confusion Matrix:\")\n",
        "print(conf_mat)\n",
        "\n",
        "# Calculate accuracy\n",
        "accuracy = accuracy_score(y_val_labels, y_pred)\n",
        "print(f\"Accuracy: {accuracy:.4f}\")\n"
      ],
      "metadata": {
        "colab": {
          "base_uri": "https://localhost:8080/"
        },
        "id": "YN_Ew_8I471v",
        "outputId": "46d26f02-de1f-4e00-8d41-bd4d0154293e"
      },
      "execution_count": 50,
      "outputs": [
        {
          "output_type": "stream",
          "name": "stdout",
          "text": [
            "13/13 [==============================] - 0s 3ms/step\n",
            "              precision    recall  f1-score   support\n",
            "\n",
            "           0       0.98      0.98      0.98       105\n",
            "           1       0.90      0.97      0.93        91\n",
            "           2       0.94      0.87      0.90        92\n",
            "           3       0.96      0.96      0.96       112\n",
            "\n",
            "    accuracy                           0.95       400\n",
            "   macro avg       0.95      0.95      0.95       400\n",
            "weighted avg       0.95      0.95      0.95       400\n",
            "\n",
            "Confusion Matrix:\n",
            "[[103   2   0   0]\n",
            " [  2  88   1   0]\n",
            " [  0   8  80   4]\n",
            " [  0   0   4 108]]\n",
            "Accuracy: 0.9475\n"
          ]
        }
      ]
    }
  ]
}